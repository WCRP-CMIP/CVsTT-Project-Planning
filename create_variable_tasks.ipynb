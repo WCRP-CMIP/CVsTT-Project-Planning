{
 "cells": [
  {
   "cell_type": "markdown",
   "metadata": {},
   "source": [
    "# Variable Review Tasks - GitHub Issues\n",
    "\n",
    "Create GitHub issues from CSV data for variable review tasks."
   ]
  },
  {
   "cell_type": "code",
   "execution_count": null,
   "metadata": {},
   "outputs": [],
   "source": [
    "import sys\n",
    "import csv\n",
    "sys.path.append('.')\n",
    "\n",
    "from github_manager import *\n",
    "\n",
    "CONFIG = {\n",
    "    \"project_id\": \"PVT_kwDOATRwu84A6Naw\",\n",
    "    \"org_name\": \"WCRP-CMIP\",\n",
    "    \"repo_owner\": \"WCRP-CMIP\",\n",
    "    \"repo_name\": \"CVsTT-Project-Planning\"\n",
    "}\n",
    "\n",
    "issue_mgr = IssueManager()\n",
    "label_mgr = LabelManager()\n",
    "milestone_mgr = MilestoneManager()\n",
    "\n",
    "print(\"✅ Ready to create variable review tasks\")"
   ]
  },
  {
   "cell_type": "code",
   "execution_count": null,
   "metadata": {},
   "outputs": [],
   "source": [
    "# Setup required labels\n",
    "task_labels = [\n",
    "    {\"name\": \"DRS\", \"description\": \"Data Reference Syntax tasks\", \"color\": \"0052CC\"},\n",
    "    {\"name\": \"CMOR\", \"description\": \"CMOR related tasks\", \"color\": \"A2EEEF\"},\n",
    "    {\"name\": \"Info\", \"description\": \"Information/analysis tasks\", \"color\": \"0075CA\"},\n",
    "    {\"name\": \"Other\", \"description\": \"Other variable tasks\", \"color\": \"CCCCCC\"},\n",
    "    {\"name\": \"variables\", \"description\": \"Variable review tasks\", \"color\": \"1D76DB\"},\n",
    "    {\"name\": \"CVsTT\", \"description\": \"CVsTT project\", \"color\": \"1D76DB\"}\n",
    "]\n",
    "\n",
    "created, existing = label_mgr.ensure_labels_exist(\n",
    "    CONFIG[\"repo_owner\"], CONFIG[\"repo_name\"], task_labels\n",
    ")\n",
    "print(f\"Labels ready: {len(created)} created, {len(existing)} existing\")"
   ]
  },
  {
   "cell_type": "code",
   "execution_count": null,
   "metadata": {},
   "outputs": [],
   "source": [
    "# Load CSV and convert to issue data\n",
    "def load_csv_to_issues(csv_file):\n",
    "    issues_data = []\n",
    "    \n",
    "    with open(csv_file, 'r') as f:\n",
    "        reader = csv.DictReader(f)\n",
    "        for row in reader:\n",
    "            # Parse labels from comma-separated string\n",
    "            labels = [label.strip() for label in row['labels'].split(',')]\n",
    "            \n",
    "            issue_data = {\n",
    "                'title': row['title'],\n",
    "                'content': row['content'],\n",
    "                'labels': labels,\n",
    "                'milestone': row['milestone'],\n",
    "                'start_date': row['start_date'],\n",
    "                'end_date': row['end_date']\n",
    "            }\n",
    "            issues_data.append(issue_data)\n",
    "    \n",
    "    return issues_data\n",
    "\n",
    "# Load the variable review tasks\n",
    "variable_tasks = load_csv_to_issues('variable_review_tasks.csv')\n",
    "print(f\"Loaded {len(variable_tasks)} variable review tasks\")"
   ]
  },
  {
   "cell_type": "code",
   "execution_count": null,
   "metadata": {},
   "outputs": [],
   "source": [
    "# Create all variable review issues\n",
    "created, failed = issue_mgr.create_issues_bulk(\n",
    "    CONFIG[\"repo_owner\"], \n",
    "    CONFIG[\"repo_name\"], \n",
    "    variable_tasks,\n",
    "    add_to_project_id=CONFIG[\"project_id\"]\n",
    ")\n",
    "\n",
    "print(f\"\\n📊 Variable Review Tasks Created:\")\n",
    "print(f\"   ✅ Created: {len(created)} issues\")\n",
    "print(f\"   ❌ Failed: {len(failed)} issues\")\n",
    "\n",
    "if created:\n",
    "    print(f\"\\n✅ Successfully created issues:\")\n",
    "    for issue in created:\n",
    "        print(f\"   • {issue['title']}: {issue['url']}\")\n",
    "\n",
    "if failed:\n",
    "    print(f\"\\n❌ Failed to create: {', '.join(failed)}\")"
   ]
  }
 ],
 "metadata": {
  "kernelspec": {
   "display_name": "Python 3",
   "language": "python",
   "version": "3.8.5"
  },
  "language_info": {
   "codemirror_mode": {
    "name": "ipython",
    "version": 3
   },
   "file_extension": ".py",
   "name": "python",
   "nbconvert_exporter": "python",
   "version": "3.8.5"
  }
 },
 "nbformat": 4,
 "nbformat_minor": 4
}
